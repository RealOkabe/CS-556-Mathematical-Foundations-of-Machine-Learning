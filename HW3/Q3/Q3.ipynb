{
 "cells": [
  {
   "cell_type": "markdown",
   "id": "089a825b",
   "metadata": {},
   "source": [
    "# Q3. Bank Churn Classification Problem\n",
    "## Dataset Description:\n",
    "Banking is one of those traditional industries that has gone through a steady transformation over the past few decades. Yet, many banks today with a sizeable customer base are hoping to gain a competitive edge but have not tapped into the vast amounts of data they have, especially in solving one of the most acknowledged problems – customer churn (i.e., a customer leaving the bank). It is advantageous to banks to know what leads a client to leave the bank. Banks often use the customer churn rate as one of their key business metrics because the cost of retaining existing customers is far less than acquiring new ones, and meanwhile increasing customer retention can greatly increase profits.  \n",
    "Churn prevention allows companies to develop different programs such as loyalty and retention programs to keep as many customers as possible. Following are the attributes of the dataset we will be working with. \n",
    " \n",
    "\n",
    "- RowNumber (continuous) — corresponds to the record (row) number and has no effect on the output. \n",
    " \n",
    "\n",
    "- CustomerId  (categorical)— contains random values and has no effect on customer leaving the bank. \n",
    " \n",
    "\n",
    "- Surname  (categorical)— the surname of a customer has no impact on their decision to leave the bank \n",
    " \n",
    "\n",
    "- CreditScore  (continuous) — can influence customer churn, since a customer with a higher credit score is less likely to leave the bank. \n",
    " \n",
    "\n",
    "- Geography (categorical) — a customer’s location can affect their decision to leave the bank. \n",
    " \n",
    "\n",
    "- Gender (categorical) — it’s interesting to explore whether gender plays a role in a customer leaving the bank. \n",
    " \n",
    "\n",
    "- Age (continuous) — this is certainly relevant, since older customers are less likely to leave their bank than younger ones. \n",
    " \n",
    "\n",
    "- Tenure (continuous) — refers to the number of years that the customer has been a client of the bank. Normally, older clients are more loyal and less likely to leave a bank. \n",
    " \n",
    "\n",
    "- Balance (continuous) — also a very good indicator of customer churn, as people with a higher balance in their accounts are less likely to leave the bank compared to those with lower balances. \n",
    " \n",
    "\n",
    "- NumOfProducts (continuous) — refers to the number of products that a customer has purchased through the bank. \n",
    " \n",
    "\n",
    "- HasCrCard (categorical) — denotes whether a customer has a credit card. This column is also relevant since people with a credit card are less likely to leave the bank. \n",
    " \n",
    "\n",
    "- IsActiveMember (categorical) — active customers are less likely to leave the bank. \n",
    " \n",
    "\n",
    "- EstimatedSalary (continuous) — as with balance, people with lower salaries are more likely to leave the bank compared to those with higher salaries. \n",
    " \n",
    "\n",
    "- Exited (Categorical) — whether or not the customer left the bank. (Target variable) "
   ]
  },
  {
   "cell_type": "markdown",
   "id": "268a4322",
   "metadata": {},
   "source": [
    "# Import all the necessary libraries"
   ]
  },
  {
   "cell_type": "code",
   "execution_count": 133,
   "id": "69b45d04",
   "metadata": {
    "tags": []
   },
   "outputs": [],
   "source": [
    "#Importing Libraries\n",
    "import pandas as pd\n",
    "import numpy as np\n",
    "import matplotlib.pyplot as plt\n",
    "\n",
    "#Classifier Libraries\n",
    "from sklearn.linear_model import LogisticRegression\n",
    "from sklearn.svm import SVC\n",
    "\n",
    "#Scaling & splitting Libraries\n",
    "from sklearn.preprocessing import MinMaxScaler\n",
    "from sklearn.model_selection import train_test_split\n",
    "from sklearn.model_selection import GridSearchCV\n",
    "\n",
    "# Sampling library\n",
    "from imblearn.over_sampling import SMOTE\n",
    "\n",
    "#Evaluation Libraries\n",
    "from sklearn.metrics import accuracy_score\n",
    "from sklearn.metrics import classification_report\n",
    "from sklearn.metrics import confusion_matrix"
   ]
  },
  {
   "cell_type": "markdown",
   "id": "7b7cc412",
   "metadata": {},
   "source": [
    "### b.\tData Loading / Preprocessing\n",
    "#### i.\tLoading\n",
    "1. Load the data <BankChurn.csv> as a pandas dataframe using the `pd.read_csv()` function which returns a dataframe , store this value in a variable named ‘df’."
   ]
  },
  {
   "cell_type": "code",
   "execution_count": 94,
   "id": "beb570e4",
   "metadata": {},
   "outputs": [
    {
     "data": {
      "text/plain": [
       "(10000, 14)"
      ]
     },
     "execution_count": 94,
     "metadata": {},
     "output_type": "execute_result"
    }
   ],
   "source": [
    "df = pd.read_csv('churn.csv')\n",
    "df.shape"
   ]
  },
  {
   "cell_type": "markdown",
   "id": "c024de29",
   "metadata": {},
   "source": [
    "2. The resulting dataframe should have the shape (10000,14) indicating that there are 10000 instances and 14 columns. "
   ]
  },
  {
   "cell_type": "markdown",
   "id": "97260c2d",
   "metadata": {},
   "source": [
    "3. In this dataframe, currently you have 9 features which are the following: RowNumber, CustomerID, Surname, CreditScore, Geography, Gender, Age, Tenure, Balance, NumOfProducts, HasCrCard, IsActiveMember, EstimatedSalary. Using the ‘pandas.dataframe.drop’ function to drop the RowNumber, CustomerID and Surname columns."
   ]
  },
  {
   "cell_type": "code",
   "execution_count": 95,
   "id": "bd1e2c94",
   "metadata": {},
   "outputs": [],
   "source": [
    "df = pd.DataFrame.drop(df, columns = ['RowNumber', 'CustomerId', 'Surname'])"
   ]
  },
  {
   "cell_type": "markdown",
   "id": "9f6ea1c2",
   "metadata": {},
   "source": [
    "4. Using the ‘pandas.isnull()’ function check if there are any missing values in the dataframe and report this value (i.e., the number of missing values per column of the dataframe)."
   ]
  },
  {
   "cell_type": "code",
   "execution_count": 96,
   "id": "9e42f66c",
   "metadata": {},
   "outputs": [
    {
     "data": {
      "text/plain": [
       "CreditScore        0\n",
       "Geography          0\n",
       "Gender             0\n",
       "Age                0\n",
       "Tenure             0\n",
       "Balance            0\n",
       "NumOfProducts      0\n",
       "HasCrCard          0\n",
       "IsActiveMember     0\n",
       "EstimatedSalary    0\n",
       "Exited             0\n",
       "dtype: int64"
      ]
     },
     "execution_count": 96,
     "metadata": {},
     "output_type": "execute_result"
    }
   ],
   "source": [
    "pd.isnull(df).sum()"
   ]
  },
  {
   "cell_type": "markdown",
   "id": "26d315ee",
   "metadata": {},
   "source": [
    "5. Your task is to use feature columns to predict the target column (which is categorical in our case). This can be cast as a classification problem. "
   ]
  },
  {
   "cell_type": "code",
   "execution_count": null,
   "id": "d24eeb78",
   "metadata": {},
   "outputs": [],
   "source": []
  },
  {
   "cell_type": "markdown",
   "id": "5de148fe",
   "metadata": {},
   "source": [
    "6. Create a dataframe X of features (by dropping the ‘Exited’ column from the original dataframe). Create a Pandas Series object of targets Y (by only considering the ‘Exited’ column from the original dataframe). Moving forward, we will be working with X and Y."
   ]
  },
  {
   "cell_type": "code",
   "execution_count": 97,
   "id": "33aff754",
   "metadata": {},
   "outputs": [],
   "source": [
    "X = pd.DataFrame.drop(df, columns = 'Exited')\n",
    "Y = df['Exited']"
   ]
  },
  {
   "cell_type": "markdown",
   "id": "1ed0acb0",
   "metadata": {},
   "source": [
    "### ii. Data Visualisation\n",
    "1. Visualize the distribution of the ‘Age’ and ‘CreditScore’ column using the ‘matplotlib.pyplot.hist’ function as two separate plots. Label the x-axis and the y-axis along with giving the plot a title and assign a bin size of 7.\n",
    "\n",
    "- What are the respective mean values of these two features (use the pandas.DataFrame.mean() function)?\n",
    "- What is the respective standard deviation of these two features (use the pandas.DataFrame.std() function)? "
   ]
  },
  {
   "cell_type": "code",
   "execution_count": 98,
   "id": "fd629fcf",
   "metadata": {},
   "outputs": [
    {
     "data": {
      "image/png": "[encoded data removed]",
      "text/plain": [
       "<Figure size 1000x800 with 2 Axes>"
      ]
     },
     "metadata": {},
     "output_type": "display_data"
    },
    {
     "name": "stdout",
     "output_type": "stream",
     "text": [
      "Mean Age: 38.9218\n",
      "Mean Credit Score: 650.5288\n",
      "Standard Deviation of Age: 10.487806451704609\n",
      "Standard Deviation of Credit Score: 96.65329873613035\n"
     ]
    }
   ],
   "source": [
    "plt.figure(figsize = (10, 8))\n",
    "plt.subplot(1, 2, 1)\n",
    "plt.hist(df['Age'], bins=7, color='blue', edgecolor='black')\n",
    "plt.title('Distribution of Age')\n",
    "plt.xlabel('Age')\n",
    "plt.ylabel('Frequency')\n",
    "\n",
    "# Visualize the distribution of 'CreditScore'\n",
    "plt.subplot(1, 2, 2)\n",
    "plt.hist(df['CreditScore'], bins=7, color='green', edgecolor='black')\n",
    "plt.title('Distribution of CreditScore')\n",
    "plt.xlabel('CreditScore')\n",
    "plt.ylabel('Frequency')\n",
    "\n",
    "plt.tight_layout()\n",
    "plt.show()\n",
    "\n",
    "# Calculate mean and standard deviation\n",
    "print(f\"Mean Age: {df['Age'].mean()}\")\n",
    "print(f\"Mean Credit Score: {df['CreditScore'].mean()}\")\n",
    "print(f\"Standard Deviation of Age: {df['Age'].std()}\")\n",
    "print(f\"Standard Deviation of Credit Score: {df['CreditScore'].std()}\")"
   ]
  },
  {
   "cell_type": "markdown",
   "id": "47b86ad8",
   "metadata": {},
   "source": [
    "2. Only for this question use the dataframe consisting of the target variable (initialized as ‘df’). Using matplotlib visualize the number of males and females in each country who are active members and not active members. (Visualize this using a barchart. You will need to use the ‘Gender’, ‘Geography’ and ‘IsActiveMember’ features for this question). Visualize these graphs on two separate plots with respect to their active status. To create a barchart using matplotlib use the ‘matplotlib.pyplot.bar()’ function. Also label the x-axis, y-axis and give the plots a title. \n",
    "\n",
    "- How many males are from France and are active members?\n",
    "- How many females are from Spain and are active members?\n",
    "- How many males are from France or Germany who are not active members?"
   ]
  },
  {
   "cell_type": "code",
   "execution_count": 99,
   "id": "0fcb2554",
   "metadata": {},
   "outputs": [
    {
     "data": {
      "image/png": "[encoded data removed]",
      "text/plain": [
       "<Figure size 1200x1000 with 4 Axes>"
      ]
     },
     "metadata": {},
     "output_type": "display_data"
    },
    {
     "name": "stdout",
     "output_type": "stream",
     "text": [
      "Number of males from France and are active members: 1429\n",
      "Number of females from Spain and are active members: 563\n",
      "Number of males from France or Germany who are not active members: 1951\n"
     ]
    }
   ],
   "source": [
    "# Create four subplots\n",
    "fig, axs = plt.subplots(2, 2, figsize=(12, 10))\n",
    "\n",
    "# Plot for active males\n",
    "df_active_males = df[(df['Gender'] == 'Male') & (df['IsActiveMember'] == 1)]\n",
    "axs[0, 0].bar(df_active_males['Geography'].value_counts().index, df_active_males['Geography'].value_counts(), color='blue', edgecolor='black')\n",
    "axs[0, 0].set_title('Active Males by Country')\n",
    "axs[0, 0].set_xlabel('Country')\n",
    "axs[0, 0].set_ylabel('Count')\n",
    "\n",
    "# Plot for active females\n",
    "df_active_females = df[(df['Gender'] == 'Female') & (df['IsActiveMember'] == 1)]\n",
    "axs[0, 1].bar(df_active_females['Geography'].value_counts().index, df_active_females['Geography'].value_counts(), color='pink', edgecolor='black')\n",
    "axs[0, 1].set_title('Active Females by Country')\n",
    "axs[0, 1].set_xlabel('Country')\n",
    "axs[0, 1].set_ylabel('Count')\n",
    "\n",
    "# Plot for inactive males\n",
    "df_inactive_males = df[(df['Gender'] == 'Male') & (df['IsActiveMember'] == 0)]\n",
    "axs[1, 0].bar(df_inactive_males['Geography'].value_counts().index, df_inactive_males['Geography'].value_counts(), color='blue', edgecolor='black')\n",
    "axs[1, 0].set_title('Inactive Males by Country')\n",
    "axs[1, 0].set_xlabel('Country')\n",
    "axs[1, 0].set_ylabel('Count')\n",
    "\n",
    "# Plot for inactive females\n",
    "df_inactive_females = df[(df['Gender'] == 'Female') & (df['IsActiveMember'] == 0)]\n",
    "axs[1, 1].bar(df_inactive_females['Geography'].value_counts().index, df_inactive_females['Geography'].value_counts(), color='pink', edgecolor='black')\n",
    "axs[1, 1].set_title('Inactive Females by Country')\n",
    "axs[1, 1].set_xlabel('Country')\n",
    "axs[1, 1].set_ylabel('Count')\n",
    "\n",
    "plt.tight_layout()\n",
    "plt.show()\n",
    "# Calculate specific counts\n",
    "count_males_france_active = df[(df['Gender'] == 'Male') & (df['Geography'] == 'France') & (df['IsActiveMember'] == 1)].shape[0]\n",
    "count_females_spain_active = df[(df['Gender'] == 'Female') & (df['Geography'] == 'Spain') & (df['IsActiveMember'] == 1)].shape[0]\n",
    "count_males_france_germany_not_active = df[((df['Gender'] == 'Male') & (df['Geography'].isin(['France', 'Germany']))) & (df['IsActiveMember'] == 0)].shape[0]\n",
    "\n",
    "print(f\"Number of males from France and are active members: {count_males_france_active}\")\n",
    "print(f\"Number of females from Spain and are active members: {count_females_spain_active}\")\n",
    "print(f\"Number of males from France or Germany who are not active members: {count_males_france_germany_not_active}\")"
   ]
  },
  {
   "cell_type": "markdown",
   "id": "5316b3bf",
   "metadata": {},
   "source": [
    "3. Using the target variable in Y plot a bar chart showing the distribution of the ‘Exited’ column (To create a barchart using matplotlib use the ‘matplotlib.pyplot.bar()’ function). \n",
    "\n",
    "- What can be said about this distribution (specifically keeping in mind this distribution represents the target variable) will this have an impact on the results of the classification model? "
   ]
  },
  {
   "cell_type": "code",
   "execution_count": 100,
   "id": "ba05821c",
   "metadata": {},
   "outputs": [
    {
     "data": {
      "image/png": "[encoded data removed]",
      "text/plain": [
       "<Figure size 800x600 with 1 Axes>"
      ]
     },
     "metadata": {},
     "output_type": "display_data"
    }
   ],
   "source": [
    "plt.figure(figsize = (8, 6))\n",
    "exit_counts = df['Exited'].value_counts().sort_index()\n",
    "plt.bar(exit_counts.index, exit_counts, color=['blue', 'orange'], edgecolor='black')\n",
    "plt.title('Distribution of Exited')\n",
    "plt.xlabel('Exited')\n",
    "plt.ylabel('Count')\n",
    "plt.xticks([0, 1], ['Not Exited', 'Exited'], rotation=0)\n",
    "plt.show()"
   ]
  },
  {
   "cell_type": "markdown",
   "id": "08b7f6c9",
   "metadata": {},
   "source": [
    "Looking at the graph, it is clear that the number of 'Not Exited' values far exceed the 'Exited' ones. This can lead to class imbalance and make the classification model biased towards the majority class, which in this case is 'Not Exited'."
   ]
  },
  {
   "cell_type": "markdown",
   "id": "a466cd5d",
   "metadata": {},
   "source": [
    "4. So far you should have successfully been able to load, preprocess and visualize your data. Now, use the ‘pd.get_dummies()’ function to convert categorical data into dummy variables (‘Gender’ and ‘Geography’).\n",
    "**(Perform this only on X)**. \n",
    "\n",
    "- What is the shape of X?"
   ]
  },
  {
   "cell_type": "code",
   "execution_count": 101,
   "id": "8687ee5b",
   "metadata": {},
   "outputs": [
    {
     "data": {
      "text/plain": [
       "(10000, 13)"
      ]
     },
     "execution_count": 101,
     "metadata": {},
     "output_type": "execute_result"
    }
   ],
   "source": [
    "X = pd.get_dummies(X)\n",
    "X.shape"
   ]
  },
  {
   "cell_type": "markdown",
   "id": "70122b33",
   "metadata": {},
   "source": [
    "### iii. Data Splitting\n",
    "1. Split data into training and test sets using the sklearn ‘train_test_split() function in a **80:20** ratio. The result of your data split should be X_train, X_test, y_train, y_test. (Respectively your training features, testing features, training targets and testing target arrays)."
   ]
  },
  {
   "cell_type": "code",
   "execution_count": 102,
   "id": "d0117349",
   "metadata": {},
   "outputs": [],
   "source": [
    "X_train, X_test, y_train, y_test = train_test_split(X, Y, test_size = 0.2)"
   ]
  },
  {
   "cell_type": "markdown",
   "id": "273dcd1e",
   "metadata": {},
   "source": [
    "### iv. Data Scaling\n",
    "1. Employ the ‘MinMaxScaler’  function on the continuous attributes in X_train. Employ the ‘fit_transform()’ function of the scaler to retrieve the new (scaled) version of the training data (i.e., fit_transform() should be run on `X_train`). Store the result in X_train again. \n"
   ]
  },
  {
   "cell_type": "code",
   "execution_count": 103,
   "id": "a409aa2d",
   "metadata": {},
   "outputs": [],
   "source": [
    "scaler = MinMaxScaler()\n",
    "X_train = scaler.fit_transform(X_train)"
   ]
  },
  {
   "cell_type": "markdown",
   "id": "02859b72",
   "metadata": {},
   "source": [
    "2. Scale the X_test data using the scaler you have just fit, this time using the `transform()` function. Note: store the scaled values back into X_test.  At the end of this step, you must have X_train, X_test, scaled according to the MinMaxScaler."
   ]
  },
  {
   "cell_type": "code",
   "execution_count": 104,
   "id": "9e7d897f",
   "metadata": {},
   "outputs": [],
   "source": [
    "X_test = scaler.transform(X_test)"
   ]
  },
  {
   "cell_type": "markdown",
   "id": "0a07196d",
   "metadata": {},
   "source": [
    "### c. Modelling\n",
    "### i. Modeling (Model Instantiation / Training) using Logistic Regression classifier \n",
    "1. Employ the Logistic Regression classifier from sklearn and instantiate the model. Label this model as ‘model_1_lr’"
   ]
  },
  {
   "cell_type": "code",
   "execution_count": 105,
   "id": "3f6fe862",
   "metadata": {},
   "outputs": [],
   "source": [
    "model_1_lr = LogisticRegression()"
   ]
  },
  {
   "cell_type": "markdown",
   "id": "33263994",
   "metadata": {},
   "source": [
    "2. Once instantiated, `fit()` the model using the scaled X_train, y_train data."
   ]
  },
  {
   "cell_type": "code",
   "execution_count": 106,
   "id": "2017fe9c",
   "metadata": {},
   "outputs": [
    {
     "data": {
      "text/html": [
       "<style>#sk-container-id-8 {color: black;}#sk-container-id-8 pre{padding: 0;}#sk-container-id-8 div.sk-toggleable {background-color: white;}#sk-container-id-8 label.sk-toggleable__label {cursor: pointer;display: block;width: 100%;margin-bottom: 0;padding: 0.3em;box-sizing: border-box;text-align: center;}#sk-container-id-8 label.sk-toggleable__label-arrow:before {content: \"▸\";float: left;margin-right: 0.25em;color: #696969;}#sk-container-id-8 label.sk-toggleable__label-arrow:hover:before {color: black;}#sk-container-id-8 div.sk-estimator:hover label.sk-toggleable__label-arrow:before {color: black;}#sk-container-id-8 div.sk-toggleable__content {max-height: 0;max-width: 0;overflow: hidden;text-align: left;background-color: #f0f8ff;}#sk-container-id-8 div.sk-toggleable__content pre {margin: 0.2em;color: black;border-radius: 0.25em;background-color: #f0f8ff;}#sk-container-id-8 input.sk-toggleable__control:checked~div.sk-toggleable__content {max-height: 200px;max-width: 100%;overflow: auto;}#sk-container-id-8 input.sk-toggleable__control:checked~label.sk-toggleable__label-arrow:before {content: \"▾\";}#sk-container-id-8 div.sk-estimator input.sk-toggleable__control:checked~label.sk-toggleable__label {background-color: #d4ebff;}#sk-container-id-8 div.sk-label input.sk-toggleable__control:checked~label.sk-toggleable__label {background-color: #d4ebff;}#sk-container-id-8 input.sk-hidden--visually {border: 0;clip: rect(1px 1px 1px 1px);clip: rect(1px, 1px, 1px, 1px);height: 1px;margin: -1px;overflow: hidden;padding: 0;position: absolute;width: 1px;}#sk-container-id-8 div.sk-estimator {font-family: monospace;background-color: #f0f8ff;border: 1px dotted black;border-radius: 0.25em;box-sizing: border-box;margin-bottom: 0.5em;}#sk-container-id-8 div.sk-estimator:hover {background-color: #d4ebff;}#sk-container-id-8 div.sk-parallel-item::after {content: \"\";width: 100%;border-bottom: 1px solid gray;flex-grow: 1;}#sk-container-id-8 div.sk-label:hover label.sk-toggleable__label {background-color: #d4ebff;}#sk-container-id-8 div.sk-serial::before {content: \"\";position: absolute;border-left: 1px solid gray;box-sizing: border-box;top: 0;bottom: 0;left: 50%;z-index: 0;}#sk-container-id-8 div.sk-serial {display: flex;flex-direction: column;align-items: center;background-color: white;padding-right: 0.2em;padding-left: 0.2em;position: relative;}#sk-container-id-8 div.sk-item {position: relative;z-index: 1;}#sk-container-id-8 div.sk-parallel {display: flex;align-items: stretch;justify-content: center;background-color: white;position: relative;}#sk-container-id-8 div.sk-item::before, #sk-container-id-8 div.sk-parallel-item::before {content: \"\";position: absolute;border-left: 1px solid gray;box-sizing: border-box;top: 0;bottom: 0;left: 50%;z-index: -1;}#sk-container-id-8 div.sk-parallel-item {display: flex;flex-direction: column;z-index: 1;position: relative;background-color: white;}#sk-container-id-8 div.sk-parallel-item:first-child::after {align-self: flex-end;width: 50%;}#sk-container-id-8 div.sk-parallel-item:last-child::after {align-self: flex-start;width: 50%;}#sk-container-id-8 div.sk-parallel-item:only-child::after {width: 0;}#sk-container-id-8 div.sk-dashed-wrapped {border: 1px dashed gray;margin: 0 0.4em 0.5em 0.4em;box-sizing: border-box;padding-bottom: 0.4em;background-color: white;}#sk-container-id-8 div.sk-label label {font-family: monospace;font-weight: bold;display: inline-block;line-height: 1.2em;}#sk-container-id-8 div.sk-label-container {text-align: center;}#sk-container-id-8 div.sk-container {/* jupyter's `normalize.less` sets `[hidden] { display: none; }` but bootstrap.min.css set `[hidden] { display: none !important; }` so we also need the `!important` here to be able to override the default hidden behavior on the sphinx rendered scikit-learn.org. See: https://github.com/scikit-learn/scikit-learn/issues/21755 */display: inline-block !important;position: relative;}#sk-container-id-8 div.sk-text-repr-fallback {display: none;}</style><div id=\"sk-container-id-8\" class=\"sk-top-container\"><div class=\"sk-text-repr-fallback\"><pre>LogisticRegression()</pre><b>In a Jupyter environment, please rerun this cell to show the HTML representation or trust the notebook. <br />On GitHub, the HTML representation is unable to render, please try loading this page with nbviewer.org.</b></div><div class=\"sk-container\" hidden><div class=\"sk-item\"><div class=\"sk-estimator sk-toggleable\"><input class=\"sk-toggleable__control sk-hidden--visually\" id=\"sk-estimator-id-8\" type=\"checkbox\" checked><label for=\"sk-estimator-id-8\" class=\"sk-toggleable__label sk-toggleable__label-arrow\">LogisticRegression</label><div class=\"sk-toggleable__content\"><pre>LogisticRegression()</pre></div></div></div></div></div>"
      ],
      "text/plain": [
       "LogisticRegression()"
      ]
     },
     "execution_count": 106,
     "metadata": {},
     "output_type": "execute_result"
    }
   ],
   "source": [
    "model_1_lr.fit(X_train, y_train)"
   ]
  },
  {
   "cell_type": "markdown",
   "id": "94b94480",
   "metadata": {},
   "source": [
    "3. Employ the `predict()` function to obtain predictions on X_test and store this in a variable labeled as ‘y_pred_lr’."
   ]
  },
  {
   "cell_type": "code",
   "execution_count": 107,
   "id": "c92ba92a",
   "metadata": {},
   "outputs": [],
   "source": [
    "y_pred_lr = model_1_lr.predict(X_test)"
   ]
  },
  {
   "cell_type": "markdown",
   "id": "2e2929e7",
   "metadata": {},
   "source": [
    "4. Employ the ‘accuracy_score()’ function by using the ‘y_pred_lr’ and ‘y_test’ variables as the functions parameters and print the accuracy of the Logistic Regression model   "
   ]
  },
  {
   "cell_type": "code",
   "execution_count": 108,
   "id": "5abbd18b",
   "metadata": {},
   "outputs": [
    {
     "name": "stdout",
     "output_type": "stream",
     "text": [
      "The accuracy of the Logistic Regression model is: 0.8175\n"
     ]
    }
   ],
   "source": [
    "print(f\"The accuracy of the Logistic Regression model is: {accuracy_score(y_pred_lr, y_test)}\")"
   ]
  },
  {
   "cell_type": "markdown",
   "id": "b2503ef4",
   "metadata": {},
   "source": [
    "### ii. Modeling (Model Instantiation / Training) using Support Vector Machine Classifier \n",
    "\n",
    "1. Employ the Support Vector Machine (SVM) classifier from sklearn and instantiate the model. Label this model as ‘model_2_svm’"
   ]
  },
  {
   "cell_type": "code",
   "execution_count": 109,
   "id": "4bd49f8d",
   "metadata": {},
   "outputs": [],
   "source": [
    "model_2_svm = SVC()"
   ]
  },
  {
   "cell_type": "markdown",
   "id": "58b73401",
   "metadata": {},
   "source": [
    "2. Once instantiated, ‘fit()’ the model using the scaled X_train, y_train data."
   ]
  },
  {
   "cell_type": "code",
   "execution_count": 110,
   "id": "13d91f9c",
   "metadata": {},
   "outputs": [
    {
     "data": {
      "text/html": [
       "<style>#sk-container-id-9 {color: black;}#sk-container-id-9 pre{padding: 0;}#sk-container-id-9 div.sk-toggleable {background-color: white;}#sk-container-id-9 label.sk-toggleable__label {cursor: pointer;display: block;width: 100%;margin-bottom: 0;padding: 0.3em;box-sizing: border-box;text-align: center;}#sk-container-id-9 label.sk-toggleable__label-arrow:before {content: \"▸\";float: left;margin-right: 0.25em;color: #696969;}#sk-container-id-9 label.sk-toggleable__label-arrow:hover:before {color: black;}#sk-container-id-9 div.sk-estimator:hover label.sk-toggleable__label-arrow:before {color: black;}#sk-container-id-9 div.sk-toggleable__content {max-height: 0;max-width: 0;overflow: hidden;text-align: left;background-color: #f0f8ff;}#sk-container-id-9 div.sk-toggleable__content pre {margin: 0.2em;color: black;border-radius: 0.25em;background-color: #f0f8ff;}#sk-container-id-9 input.sk-toggleable__control:checked~div.sk-toggleable__content {max-height: 200px;max-width: 100%;overflow: auto;}#sk-container-id-9 input.sk-toggleable__control:checked~label.sk-toggleable__label-arrow:before {content: \"▾\";}#sk-container-id-9 div.sk-estimator input.sk-toggleable__control:checked~label.sk-toggleable__label {background-color: #d4ebff;}#sk-container-id-9 div.sk-label input.sk-toggleable__control:checked~label.sk-toggleable__label {background-color: #d4ebff;}#sk-container-id-9 input.sk-hidden--visually {border: 0;clip: rect(1px 1px 1px 1px);clip: rect(1px, 1px, 1px, 1px);height: 1px;margin: -1px;overflow: hidden;padding: 0;position: absolute;width: 1px;}#sk-container-id-9 div.sk-estimator {font-family: monospace;background-color: #f0f8ff;border: 1px dotted black;border-radius: 0.25em;box-sizing: border-box;margin-bottom: 0.5em;}#sk-container-id-9 div.sk-estimator:hover {background-color: #d4ebff;}#sk-container-id-9 div.sk-parallel-item::after {content: \"\";width: 100%;border-bottom: 1px solid gray;flex-grow: 1;}#sk-container-id-9 div.sk-label:hover label.sk-toggleable__label {background-color: #d4ebff;}#sk-container-id-9 div.sk-serial::before {content: \"\";position: absolute;border-left: 1px solid gray;box-sizing: border-box;top: 0;bottom: 0;left: 50%;z-index: 0;}#sk-container-id-9 div.sk-serial {display: flex;flex-direction: column;align-items: center;background-color: white;padding-right: 0.2em;padding-left: 0.2em;position: relative;}#sk-container-id-9 div.sk-item {position: relative;z-index: 1;}#sk-container-id-9 div.sk-parallel {display: flex;align-items: stretch;justify-content: center;background-color: white;position: relative;}#sk-container-id-9 div.sk-item::before, #sk-container-id-9 div.sk-parallel-item::before {content: \"\";position: absolute;border-left: 1px solid gray;box-sizing: border-box;top: 0;bottom: 0;left: 50%;z-index: -1;}#sk-container-id-9 div.sk-parallel-item {display: flex;flex-direction: column;z-index: 1;position: relative;background-color: white;}#sk-container-id-9 div.sk-parallel-item:first-child::after {align-self: flex-end;width: 50%;}#sk-container-id-9 div.sk-parallel-item:last-child::after {align-self: flex-start;width: 50%;}#sk-container-id-9 div.sk-parallel-item:only-child::after {width: 0;}#sk-container-id-9 div.sk-dashed-wrapped {border: 1px dashed gray;margin: 0 0.4em 0.5em 0.4em;box-sizing: border-box;padding-bottom: 0.4em;background-color: white;}#sk-container-id-9 div.sk-label label {font-family: monospace;font-weight: bold;display: inline-block;line-height: 1.2em;}#sk-container-id-9 div.sk-label-container {text-align: center;}#sk-container-id-9 div.sk-container {/* jupyter's `normalize.less` sets `[hidden] { display: none; }` but bootstrap.min.css set `[hidden] { display: none !important; }` so we also need the `!important` here to be able to override the default hidden behavior on the sphinx rendered scikit-learn.org. See: https://github.com/scikit-learn/scikit-learn/issues/21755 */display: inline-block !important;position: relative;}#sk-container-id-9 div.sk-text-repr-fallback {display: none;}</style><div id=\"sk-container-id-9\" class=\"sk-top-container\"><div class=\"sk-text-repr-fallback\"><pre>SVC()</pre><b>In a Jupyter environment, please rerun this cell to show the HTML representation or trust the notebook. <br />On GitHub, the HTML representation is unable to render, please try loading this page with nbviewer.org.</b></div><div class=\"sk-container\" hidden><div class=\"sk-item\"><div class=\"sk-estimator sk-toggleable\"><input class=\"sk-toggleable__control sk-hidden--visually\" id=\"sk-estimator-id-9\" type=\"checkbox\" checked><label for=\"sk-estimator-id-9\" class=\"sk-toggleable__label sk-toggleable__label-arrow\">SVC</label><div class=\"sk-toggleable__content\"><pre>SVC()</pre></div></div></div></div></div>"
      ],
      "text/plain": [
       "SVC()"
      ]
     },
     "execution_count": 110,
     "metadata": {},
     "output_type": "execute_result"
    }
   ],
   "source": [
    "model_2_svm.fit(X_train, y_train)"
   ]
  },
  {
   "cell_type": "markdown",
   "id": "21d29081",
   "metadata": {},
   "source": [
    "3. Employ the ‘predict()’ function to obtain predictions on X_test and store this in a variable labeled as ‘y_pred_svm’. "
   ]
  },
  {
   "cell_type": "code",
   "execution_count": 111,
   "id": "51e9de54",
   "metadata": {},
   "outputs": [],
   "source": [
    "y_pred_svm = model_2_svm.predict(X_test)"
   ]
  },
  {
   "cell_type": "markdown",
   "id": "c736671f",
   "metadata": {},
   "source": [
    "4. Employ the ‘accuracy_score’ function (‘sklearn.metrics.accuracy()’ function) by using the ‘y_pred_lr’ and ‘y_test’ variables as the functions parameters and print the accuracy of the SVM model. "
   ]
  },
  {
   "cell_type": "code",
   "execution_count": 112,
   "id": "152d9c02",
   "metadata": {},
   "outputs": [
    {
     "name": "stdout",
     "output_type": "stream",
     "text": [
      "The accuracy score of the SVM model is: 0.842\n"
     ]
    }
   ],
   "source": [
    "print(f\"The accuracy score of the SVM model is: {accuracy_score(y_pred_svm, y_test)}\")"
   ]
  },
  {
   "cell_type": "markdown",
   "id": "440edeea",
   "metadata": {},
   "source": [
    "### iii. Modeling Logistic Regression Classifier on a balanced dataset \n",
    "1. Employ Synthetic Minority Oversampling on X_train and y_train. To use SMOTE you will have to install the imbalanced-learn library, this can either be down by executing the following command ‘pip install -U imbalanced-learn’ command ‘conda install -c conda-forage imbalanced-learn’ command for the Anaconda Cloud platform. (For more information click the following link: https://imbalanced-learn.org/stable/install.html).  \n",
    "Import the ‘SMOTE’ function from the ‘imblearn.over_sampling’. Use the ‘smote.refit_resample()’ function on X_train and y_train using its default parameters. Store them in X_train_smote, y_train_smote. - Be careful to employ SMOTE ONLY on the training data and not on the full dataset because that can cause inadvertent “data leakage” (please see: https://arxiv.org/pdf/2107.00079.pdf for details) . "
   ]
  },
  {
   "cell_type": "code",
   "execution_count": 113,
   "id": "df03f658",
   "metadata": {},
   "outputs": [],
   "source": [
    "X_train_smote, y_train_smote = SMOTE().fit_resample(X_train, y_train)"
   ]
  },
  {
   "cell_type": "markdown",
   "id": "6d0e8304",
   "metadata": {},
   "source": [
    "2. Employ a new Logistic Regression classifier from sklearn and instantiate the model. Label this model as ‘model_3_smote_lr’"
   ]
  },
  {
   "cell_type": "code",
   "execution_count": 114,
   "id": "810fba81",
   "metadata": {},
   "outputs": [],
   "source": [
    "model_3_smote_lr = LogisticRegression()"
   ]
  },
  {
   "cell_type": "markdown",
   "id": "35977358",
   "metadata": {},
   "source": [
    "3. Once instantiated, ‘fit()’ the model using the balanced X_train_smote, y_train_smote data."
   ]
  },
  {
   "cell_type": "code",
   "execution_count": 115,
   "id": "af21c2f2",
   "metadata": {},
   "outputs": [
    {
     "data": {
      "text/html": [
       "<style>#sk-container-id-10 {color: black;}#sk-container-id-10 pre{padding: 0;}#sk-container-id-10 div.sk-toggleable {background-color: white;}#sk-container-id-10 label.sk-toggleable__label {cursor: pointer;display: block;width: 100%;margin-bottom: 0;padding: 0.3em;box-sizing: border-box;text-align: center;}#sk-container-id-10 label.sk-toggleable__label-arrow:before {content: \"▸\";float: left;margin-right: 0.25em;color: #696969;}#sk-container-id-10 label.sk-toggleable__label-arrow:hover:before {color: black;}#sk-container-id-10 div.sk-estimator:hover label.sk-toggleable__label-arrow:before {color: black;}#sk-container-id-10 div.sk-toggleable__content {max-height: 0;max-width: 0;overflow: hidden;text-align: left;background-color: #f0f8ff;}#sk-container-id-10 div.sk-toggleable__content pre {margin: 0.2em;color: black;border-radius: 0.25em;background-color: #f0f8ff;}#sk-container-id-10 input.sk-toggleable__control:checked~div.sk-toggleable__content {max-height: 200px;max-width: 100%;overflow: auto;}#sk-container-id-10 input.sk-toggleable__control:checked~label.sk-toggleable__label-arrow:before {content: \"▾\";}#sk-container-id-10 div.sk-estimator input.sk-toggleable__control:checked~label.sk-toggleable__label {background-color: #d4ebff;}#sk-container-id-10 div.sk-label input.sk-toggleable__control:checked~label.sk-toggleable__label {background-color: #d4ebff;}#sk-container-id-10 input.sk-hidden--visually {border: 0;clip: rect(1px 1px 1px 1px);clip: rect(1px, 1px, 1px, 1px);height: 1px;margin: -1px;overflow: hidden;padding: 0;position: absolute;width: 1px;}#sk-container-id-10 div.sk-estimator {font-family: monospace;background-color: #f0f8ff;border: 1px dotted black;border-radius: 0.25em;box-sizing: border-box;margin-bottom: 0.5em;}#sk-container-id-10 div.sk-estimator:hover {background-color: #d4ebff;}#sk-container-id-10 div.sk-parallel-item::after {content: \"\";width: 100%;border-bottom: 1px solid gray;flex-grow: 1;}#sk-container-id-10 div.sk-label:hover label.sk-toggleable__label {background-color: #d4ebff;}#sk-container-id-10 div.sk-serial::before {content: \"\";position: absolute;border-left: 1px solid gray;box-sizing: border-box;top: 0;bottom: 0;left: 50%;z-index: 0;}#sk-container-id-10 div.sk-serial {display: flex;flex-direction: column;align-items: center;background-color: white;padding-right: 0.2em;padding-left: 0.2em;position: relative;}#sk-container-id-10 div.sk-item {position: relative;z-index: 1;}#sk-container-id-10 div.sk-parallel {display: flex;align-items: stretch;justify-content: center;background-color: white;position: relative;}#sk-container-id-10 div.sk-item::before, #sk-container-id-10 div.sk-parallel-item::before {content: \"\";position: absolute;border-left: 1px solid gray;box-sizing: border-box;top: 0;bottom: 0;left: 50%;z-index: -1;}#sk-container-id-10 div.sk-parallel-item {display: flex;flex-direction: column;z-index: 1;position: relative;background-color: white;}#sk-container-id-10 div.sk-parallel-item:first-child::after {align-self: flex-end;width: 50%;}#sk-container-id-10 div.sk-parallel-item:last-child::after {align-self: flex-start;width: 50%;}#sk-container-id-10 div.sk-parallel-item:only-child::after {width: 0;}#sk-container-id-10 div.sk-dashed-wrapped {border: 1px dashed gray;margin: 0 0.4em 0.5em 0.4em;box-sizing: border-box;padding-bottom: 0.4em;background-color: white;}#sk-container-id-10 div.sk-label label {font-family: monospace;font-weight: bold;display: inline-block;line-height: 1.2em;}#sk-container-id-10 div.sk-label-container {text-align: center;}#sk-container-id-10 div.sk-container {/* jupyter's `normalize.less` sets `[hidden] { display: none; }` but bootstrap.min.css set `[hidden] { display: none !important; }` so we also need the `!important` here to be able to override the default hidden behavior on the sphinx rendered scikit-learn.org. See: https://github.com/scikit-learn/scikit-learn/issues/21755 */display: inline-block !important;position: relative;}#sk-container-id-10 div.sk-text-repr-fallback {display: none;}</style><div id=\"sk-container-id-10\" class=\"sk-top-container\"><div class=\"sk-text-repr-fallback\"><pre>LogisticRegression()</pre><b>In a Jupyter environment, please rerun this cell to show the HTML representation or trust the notebook. <br />On GitHub, the HTML representation is unable to render, please try loading this page with nbviewer.org.</b></div><div class=\"sk-container\" hidden><div class=\"sk-item\"><div class=\"sk-estimator sk-toggleable\"><input class=\"sk-toggleable__control sk-hidden--visually\" id=\"sk-estimator-id-10\" type=\"checkbox\" checked><label for=\"sk-estimator-id-10\" class=\"sk-toggleable__label sk-toggleable__label-arrow\">LogisticRegression</label><div class=\"sk-toggleable__content\"><pre>LogisticRegression()</pre></div></div></div></div></div>"
      ],
      "text/plain": [
       "LogisticRegression()"
      ]
     },
     "execution_count": 115,
     "metadata": {},
     "output_type": "execute_result"
    }
   ],
   "source": [
    "model_3_smote_lr.fit(X_train_smote, y_train_smote)"
   ]
  },
  {
   "cell_type": "markdown",
   "id": "e40a199c",
   "metadata": {},
   "source": [
    "4. Employ the ‘predict()’ function to obtain predictions on X_test and store this in a variable labeled as ‘y_pred_smote_lr’. "
   ]
  },
  {
   "cell_type": "code",
   "execution_count": 116,
   "id": "96d7a4a3",
   "metadata": {},
   "outputs": [],
   "source": [
    "y_pred_smote_lr = model_3_smote_lr.predict(X_test)"
   ]
  },
  {
   "cell_type": "markdown",
   "id": "488da2f5",
   "metadata": {},
   "source": [
    "5. Employ the ‘accuracy_score’ function by using the ‘y_pred_lr’ and ‘y_test’ variables as the functions parameters and print the accuracy of the new Logistic Regression model.\n",
    "\n",
    "- What is your initial observation of the accuracy of model_3_smote_lr vs. accuracy of model_1_lr? What could be the reasoning for (any possible) change in accuracy?"
   ]
  },
  {
   "cell_type": "code",
   "execution_count": 117,
   "id": "1912eb1e",
   "metadata": {},
   "outputs": [
    {
     "name": "stdout",
     "output_type": "stream",
     "text": [
      "The accuracy score of the Logistic Regression model with smote is: 0.725\n"
     ]
    }
   ],
   "source": [
    "print(f\"The accuracy score of the Logistic Regression model with smote is: {accuracy_score(y_test, y_pred_smote_lr)}\")"
   ]
  },
  {
   "cell_type": "markdown",
   "id": "fb28d09f",
   "metadata": {},
   "source": [
    "The accuracy of the Logistic Regression model decreased when smote was employed on the data. This change in accuracy may be because the synthetic examples generated by smote were not good in representing the true values of the data. The examples were generated to balance the counts of 'Exited' and 'Not Exited' but they decreased the model's accuracy instead."
   ]
  },
  {
   "cell_type": "markdown",
   "id": "9c09c15f",
   "metadata": {},
   "source": [
    "### iv. Modeling SVM on a balanced dataset\n",
    "1. Employ Synthetic Minority Oversampling on X_train and y_train. Import the ‘SMOTE’ function from the ‘imblearn.over_sampling’. Use the ‘smote.refit_resample()’ function on X_train and y_train. Store them in X_train_smote, y_train_smote. \n",
    "\n",
    "- At the end of this step, your new training set i.e., (X_train_smote , y_train_smote) should have the same number of instances for each of the two classes."
   ]
  },
  {
   "cell_type": "code",
   "execution_count": 118,
   "id": "7a3e7f82",
   "metadata": {},
   "outputs": [
    {
     "name": "stdout",
     "output_type": "stream",
     "text": [
      "Class distribution of y_train_smote after SMOTE:\n",
      "{0: 6355, 1: 6355}\n"
     ]
    }
   ],
   "source": [
    "X_train_smote, y_train_smote = SMOTE().fit_resample(X_train, y_train)\n",
    "\n",
    "unique_classes, class_counts = np.unique(y_train_smote, return_counts=True)\n",
    "class_distribution_after_smote = dict(zip(unique_classes, class_counts))\n",
    "\n",
    "print(\"Class distribution of y_train_smote after SMOTE:\")\n",
    "print(class_distribution_after_smote)"
   ]
  },
  {
   "cell_type": "markdown",
   "id": "cb819ddf",
   "metadata": {},
   "source": [
    "2. Employ a new SVM classifier from sklearn and instantiate the model. Label this model as ‘model_4_smote_svm’"
   ]
  },
  {
   "cell_type": "code",
   "execution_count": 119,
   "id": "f7a246b1",
   "metadata": {},
   "outputs": [],
   "source": [
    "model_4_smote_svm = SVC()"
   ]
  },
  {
   "cell_type": "markdown",
   "id": "7f243689",
   "metadata": {},
   "source": [
    "3. Once instantiated, ‘fit()’ the model using the balanced X_train_smote, y_train_smote data."
   ]
  },
  {
   "cell_type": "code",
   "execution_count": 120,
   "id": "38f9d059",
   "metadata": {},
   "outputs": [
    {
     "data": {
      "text/html": [
       "<style>#sk-container-id-11 {color: black;}#sk-container-id-11 pre{padding: 0;}#sk-container-id-11 div.sk-toggleable {background-color: white;}#sk-container-id-11 label.sk-toggleable__label {cursor: pointer;display: block;width: 100%;margin-bottom: 0;padding: 0.3em;box-sizing: border-box;text-align: center;}#sk-container-id-11 label.sk-toggleable__label-arrow:before {content: \"▸\";float: left;margin-right: 0.25em;color: #696969;}#sk-container-id-11 label.sk-toggleable__label-arrow:hover:before {color: black;}#sk-container-id-11 div.sk-estimator:hover label.sk-toggleable__label-arrow:before {color: black;}#sk-container-id-11 div.sk-toggleable__content {max-height: 0;max-width: 0;overflow: hidden;text-align: left;background-color: #f0f8ff;}#sk-container-id-11 div.sk-toggleable__content pre {margin: 0.2em;color: black;border-radius: 0.25em;background-color: #f0f8ff;}#sk-container-id-11 input.sk-toggleable__control:checked~div.sk-toggleable__content {max-height: 200px;max-width: 100%;overflow: auto;}#sk-container-id-11 input.sk-toggleable__control:checked~label.sk-toggleable__label-arrow:before {content: \"▾\";}#sk-container-id-11 div.sk-estimator input.sk-toggleable__control:checked~label.sk-toggleable__label {background-color: #d4ebff;}#sk-container-id-11 div.sk-label input.sk-toggleable__control:checked~label.sk-toggleable__label {background-color: #d4ebff;}#sk-container-id-11 input.sk-hidden--visually {border: 0;clip: rect(1px 1px 1px 1px);clip: rect(1px, 1px, 1px, 1px);height: 1px;margin: -1px;overflow: hidden;padding: 0;position: absolute;width: 1px;}#sk-container-id-11 div.sk-estimator {font-family: monospace;background-color: #f0f8ff;border: 1px dotted black;border-radius: 0.25em;box-sizing: border-box;margin-bottom: 0.5em;}#sk-container-id-11 div.sk-estimator:hover {background-color: #d4ebff;}#sk-container-id-11 div.sk-parallel-item::after {content: \"\";width: 100%;border-bottom: 1px solid gray;flex-grow: 1;}#sk-container-id-11 div.sk-label:hover label.sk-toggleable__label {background-color: #d4ebff;}#sk-container-id-11 div.sk-serial::before {content: \"\";position: absolute;border-left: 1px solid gray;box-sizing: border-box;top: 0;bottom: 0;left: 50%;z-index: 0;}#sk-container-id-11 div.sk-serial {display: flex;flex-direction: column;align-items: center;background-color: white;padding-right: 0.2em;padding-left: 0.2em;position: relative;}#sk-container-id-11 div.sk-item {position: relative;z-index: 1;}#sk-container-id-11 div.sk-parallel {display: flex;align-items: stretch;justify-content: center;background-color: white;position: relative;}#sk-container-id-11 div.sk-item::before, #sk-container-id-11 div.sk-parallel-item::before {content: \"\";position: absolute;border-left: 1px solid gray;box-sizing: border-box;top: 0;bottom: 0;left: 50%;z-index: -1;}#sk-container-id-11 div.sk-parallel-item {display: flex;flex-direction: column;z-index: 1;position: relative;background-color: white;}#sk-container-id-11 div.sk-parallel-item:first-child::after {align-self: flex-end;width: 50%;}#sk-container-id-11 div.sk-parallel-item:last-child::after {align-self: flex-start;width: 50%;}#sk-container-id-11 div.sk-parallel-item:only-child::after {width: 0;}#sk-container-id-11 div.sk-dashed-wrapped {border: 1px dashed gray;margin: 0 0.4em 0.5em 0.4em;box-sizing: border-box;padding-bottom: 0.4em;background-color: white;}#sk-container-id-11 div.sk-label label {font-family: monospace;font-weight: bold;display: inline-block;line-height: 1.2em;}#sk-container-id-11 div.sk-label-container {text-align: center;}#sk-container-id-11 div.sk-container {/* jupyter's `normalize.less` sets `[hidden] { display: none; }` but bootstrap.min.css set `[hidden] { display: none !important; }` so we also need the `!important` here to be able to override the default hidden behavior on the sphinx rendered scikit-learn.org. See: https://github.com/scikit-learn/scikit-learn/issues/21755 */display: inline-block !important;position: relative;}#sk-container-id-11 div.sk-text-repr-fallback {display: none;}</style><div id=\"sk-container-id-11\" class=\"sk-top-container\"><div class=\"sk-text-repr-fallback\"><pre>SVC()</pre><b>In a Jupyter environment, please rerun this cell to show the HTML representation or trust the notebook. <br />On GitHub, the HTML representation is unable to render, please try loading this page with nbviewer.org.</b></div><div class=\"sk-container\" hidden><div class=\"sk-item\"><div class=\"sk-estimator sk-toggleable\"><input class=\"sk-toggleable__control sk-hidden--visually\" id=\"sk-estimator-id-11\" type=\"checkbox\" checked><label for=\"sk-estimator-id-11\" class=\"sk-toggleable__label sk-toggleable__label-arrow\">SVC</label><div class=\"sk-toggleable__content\"><pre>SVC()</pre></div></div></div></div></div>"
      ],
      "text/plain": [
       "SVC()"
      ]
     },
     "execution_count": 120,
     "metadata": {},
     "output_type": "execute_result"
    }
   ],
   "source": [
    "model_4_smote_svm.fit(X_train_smote, y_train_smote)"
   ]
  },
  {
   "cell_type": "markdown",
   "id": "8d693022",
   "metadata": {},
   "source": [
    "4. Employ the ‘predict()’ function to obtain predictions on X_test and store this in a variable labeled as ‘y_pred_smote_svm’.  "
   ]
  },
  {
   "cell_type": "code",
   "execution_count": 121,
   "id": "b5b2d12d",
   "metadata": {},
   "outputs": [],
   "source": [
    "y_pred_smote_svm = model_4_smote_svm.predict(X_test)"
   ]
  },
  {
   "cell_type": "markdown",
   "id": "bcdc3bdf",
   "metadata": {},
   "source": [
    "5. Employ the ‘accuracy_score’ function (‘sklearn.metrics.accuracy()’ function) by using the ‘y_pred_lr’ and ‘y_test’ variables as the functions parameters and print the accuracy of the new SVM model. \n",
    "\n",
    "- What is your initial observation of the accuracy of model_4_smote_svm vs. accuracy of model_2_svm? What could be the reasoning for (any possible) change in accuracy? "
   ]
  },
  {
   "cell_type": "code",
   "execution_count": 122,
   "id": "d7933b0c",
   "metadata": {},
   "outputs": [
    {
     "name": "stdout",
     "output_type": "stream",
     "text": [
      "The accuracy score of SVM with smote is: 0.7755\n"
     ]
    }
   ],
   "source": [
    "print(f\"The accuracy score of SVM with smote is: {accuracy_score(y_pred_smote_svm, y_test)}\")"
   ]
  },
  {
   "cell_type": "markdown",
   "id": "86746039",
   "metadata": {},
   "source": [
    "The accuracy of SVM with smote also came out to be less compared to the accuracy of SVM without it, probably for the same reason, smote did not produce examples to balance out the classes correctly. The new examples generated by smote were not aligning themselves well with the data, which is why the predicting accuracy decreased."
   ]
  },
  {
   "cell_type": "markdown",
   "id": "f0a63962",
   "metadata": {},
   "source": [
    "### Modeling Grid Search Parameter Selection for SVM \n",
    "1. We will now be reverting to our X_train and y_train data. Initialize a variable labeled as ‘param_grid’ storing the following: {\"gamma\": [0.001, 0.01, 0.1], \"C\": [1,10,100,1000,10000]}."
   ]
  },
  {
   "cell_type": "code",
   "execution_count": 123,
   "id": "45aee4ef",
   "metadata": {},
   "outputs": [],
   "source": [
    "param_grid = {\"gamma\": [0.001, 0.01, 0.1], \"C\": [1,10,100,1000,10000]}"
   ]
  },
  {
   "cell_type": "markdown",
   "id": "0129977f",
   "metadata": {},
   "source": [
    "2. Employ the gridsearchCV function and initialize the following parameters: estimator = SVC(), param_grid = param_grid, cv=5, verbose =1, scoring = ‘accuracy’"
   ]
  },
  {
   "cell_type": "code",
   "execution_count": 124,
   "id": "94ee1def",
   "metadata": {},
   "outputs": [],
   "source": [
    "model_5_gscv = GridSearchCV(estimator = SVC(), param_grid = param_grid, cv = 5, verbose = 1, scoring = 'accuracy')"
   ]
  },
  {
   "cell_type": "markdown",
   "id": "dc284419",
   "metadata": {},
   "source": [
    "3.  Once instantiated, ‘fit()’ the model using the X_train_smote, y_train_smote data."
   ]
  },
  {
   "cell_type": "code",
   "execution_count": 125,
   "id": "7697456c",
   "metadata": {},
   "outputs": [
    {
     "name": "stdout",
     "output_type": "stream",
     "text": [
      "Fitting 5 folds for each of 15 candidates, totalling 75 fits\n"
     ]
    },
    {
     "data": {
      "text/html": [
       "<style>#sk-container-id-12 {color: black;}#sk-container-id-12 pre{padding: 0;}#sk-container-id-12 div.sk-toggleable {background-color: white;}#sk-container-id-12 label.sk-toggleable__label {cursor: pointer;display: block;width: 100%;margin-bottom: 0;padding: 0.3em;box-sizing: border-box;text-align: center;}#sk-container-id-12 label.sk-toggleable__label-arrow:before {content: \"▸\";float: left;margin-right: 0.25em;color: #696969;}#sk-container-id-12 label.sk-toggleable__label-arrow:hover:before {color: black;}#sk-container-id-12 div.sk-estimator:hover label.sk-toggleable__label-arrow:before {color: black;}#sk-container-id-12 div.sk-toggleable__content {max-height: 0;max-width: 0;overflow: hidden;text-align: left;background-color: #f0f8ff;}#sk-container-id-12 div.sk-toggleable__content pre {margin: 0.2em;color: black;border-radius: 0.25em;background-color: #f0f8ff;}#sk-container-id-12 input.sk-toggleable__control:checked~div.sk-toggleable__content {max-height: 200px;max-width: 100%;overflow: auto;}#sk-container-id-12 input.sk-toggleable__control:checked~label.sk-toggleable__label-arrow:before {content: \"▾\";}#sk-container-id-12 div.sk-estimator input.sk-toggleable__control:checked~label.sk-toggleable__label {background-color: #d4ebff;}#sk-container-id-12 div.sk-label input.sk-toggleable__control:checked~label.sk-toggleable__label {background-color: #d4ebff;}#sk-container-id-12 input.sk-hidden--visually {border: 0;clip: rect(1px 1px 1px 1px);clip: rect(1px, 1px, 1px, 1px);height: 1px;margin: -1px;overflow: hidden;padding: 0;position: absolute;width: 1px;}#sk-container-id-12 div.sk-estimator {font-family: monospace;background-color: #f0f8ff;border: 1px dotted black;border-radius: 0.25em;box-sizing: border-box;margin-bottom: 0.5em;}#sk-container-id-12 div.sk-estimator:hover {background-color: #d4ebff;}#sk-container-id-12 div.sk-parallel-item::after {content: \"\";width: 100%;border-bottom: 1px solid gray;flex-grow: 1;}#sk-container-id-12 div.sk-label:hover label.sk-toggleable__label {background-color: #d4ebff;}#sk-container-id-12 div.sk-serial::before {content: \"\";position: absolute;border-left: 1px solid gray;box-sizing: border-box;top: 0;bottom: 0;left: 50%;z-index: 0;}#sk-container-id-12 div.sk-serial {display: flex;flex-direction: column;align-items: center;background-color: white;padding-right: 0.2em;padding-left: 0.2em;position: relative;}#sk-container-id-12 div.sk-item {position: relative;z-index: 1;}#sk-container-id-12 div.sk-parallel {display: flex;align-items: stretch;justify-content: center;background-color: white;position: relative;}#sk-container-id-12 div.sk-item::before, #sk-container-id-12 div.sk-parallel-item::before {content: \"\";position: absolute;border-left: 1px solid gray;box-sizing: border-box;top: 0;bottom: 0;left: 50%;z-index: -1;}#sk-container-id-12 div.sk-parallel-item {display: flex;flex-direction: column;z-index: 1;position: relative;background-color: white;}#sk-container-id-12 div.sk-parallel-item:first-child::after {align-self: flex-end;width: 50%;}#sk-container-id-12 div.sk-parallel-item:last-child::after {align-self: flex-start;width: 50%;}#sk-container-id-12 div.sk-parallel-item:only-child::after {width: 0;}#sk-container-id-12 div.sk-dashed-wrapped {border: 1px dashed gray;margin: 0 0.4em 0.5em 0.4em;box-sizing: border-box;padding-bottom: 0.4em;background-color: white;}#sk-container-id-12 div.sk-label label {font-family: monospace;font-weight: bold;display: inline-block;line-height: 1.2em;}#sk-container-id-12 div.sk-label-container {text-align: center;}#sk-container-id-12 div.sk-container {/* jupyter's `normalize.less` sets `[hidden] { display: none; }` but bootstrap.min.css set `[hidden] { display: none !important; }` so we also need the `!important` here to be able to override the default hidden behavior on the sphinx rendered scikit-learn.org. See: https://github.com/scikit-learn/scikit-learn/issues/21755 */display: inline-block !important;position: relative;}#sk-container-id-12 div.sk-text-repr-fallback {display: none;}</style><div id=\"sk-container-id-12\" class=\"sk-top-container\"><div class=\"sk-text-repr-fallback\"><pre>GridSearchCV(cv=5, estimator=SVC(),\n",
       "             param_grid={&#x27;C&#x27;: [1, 10, 100, 1000, 10000],\n",
       "                         &#x27;gamma&#x27;: [0.001, 0.01, 0.1]},\n",
       "             scoring=&#x27;accuracy&#x27;, verbose=1)</pre><b>In a Jupyter environment, please rerun this cell to show the HTML representation or trust the notebook. <br />On GitHub, the HTML representation is unable to render, please try loading this page with nbviewer.org.</b></div><div class=\"sk-container\" hidden><div class=\"sk-item sk-dashed-wrapped\"><div class=\"sk-label-container\"><div class=\"sk-label sk-toggleable\"><input class=\"sk-toggleable__control sk-hidden--visually\" id=\"sk-estimator-id-12\" type=\"checkbox\" ><label for=\"sk-estimator-id-12\" class=\"sk-toggleable__label sk-toggleable__label-arrow\">GridSearchCV</label><div class=\"sk-toggleable__content\"><pre>GridSearchCV(cv=5, estimator=SVC(),\n",
       "             param_grid={&#x27;C&#x27;: [1, 10, 100, 1000, 10000],\n",
       "                         &#x27;gamma&#x27;: [0.001, 0.01, 0.1]},\n",
       "             scoring=&#x27;accuracy&#x27;, verbose=1)</pre></div></div></div><div class=\"sk-parallel\"><div class=\"sk-parallel-item\"><div class=\"sk-item\"><div class=\"sk-label-container\"><div class=\"sk-label sk-toggleable\"><input class=\"sk-toggleable__control sk-hidden--visually\" id=\"sk-estimator-id-13\" type=\"checkbox\" ><label for=\"sk-estimator-id-13\" class=\"sk-toggleable__label sk-toggleable__label-arrow\">estimator: SVC</label><div class=\"sk-toggleable__content\"><pre>SVC()</pre></div></div></div><div class=\"sk-serial\"><div class=\"sk-item\"><div class=\"sk-estimator sk-toggleable\"><input class=\"sk-toggleable__control sk-hidden--visually\" id=\"sk-estimator-id-14\" type=\"checkbox\" ><label for=\"sk-estimator-id-14\" class=\"sk-toggleable__label sk-toggleable__label-arrow\">SVC</label><div class=\"sk-toggleable__content\"><pre>SVC()</pre></div></div></div></div></div></div></div></div></div></div>"
      ],
      "text/plain": [
       "GridSearchCV(cv=5, estimator=SVC(),\n",
       "             param_grid={'C': [1, 10, 100, 1000, 10000],\n",
       "                         'gamma': [0.001, 0.01, 0.1]},\n",
       "             scoring='accuracy', verbose=1)"
      ]
     },
     "execution_count": 125,
     "metadata": {},
     "output_type": "execute_result"
    }
   ],
   "source": [
    "model_5_gscv.fit(X_train_smote, y_train_smote)"
   ]
  },
  {
   "cell_type": "markdown",
   "id": "6d6537ff",
   "metadata": {},
   "source": [
    "4. Print the best paramaters using the **‘best_params_’** attribute and print the mean cross validated score of the best estimator (hint use the ‘best_score_’ attribute)."
   ]
  },
  {
   "cell_type": "code",
   "execution_count": 127,
   "id": "a759b578",
   "metadata": {},
   "outputs": [
    {
     "name": "stdout",
     "output_type": "stream",
     "text": [
      "Best Params: {'C': 10000, 'gamma': 0.1}\n",
      "Best Estimator's mean cross validated score: 0.8235247836349331\n"
     ]
    }
   ],
   "source": [
    "print(f\"Best Params: {model_5_gscv.best_params_}\")\n",
    "print(f\"Best Estimator\\'s mean cross validated score: {model_5_gscv.best_score_}\")"
   ]
  },
  {
   "cell_type": "markdown",
   "id": "a7d0136b",
   "metadata": {},
   "source": [
    "5. Employ the ‘score’ function by using the ‘X_test’ and ‘y_test’ variables as the functions parameters and print the accuracy of the new gridsearch SVM model.SVM model."
   ]
  },
  {
   "cell_type": "code",
   "execution_count": 128,
   "id": "8cb3c0f3",
   "metadata": {},
   "outputs": [
    {
     "name": "stdout",
     "output_type": "stream",
     "text": [
      "Accuracy of gridsearch SVM: 0.7765\n"
     ]
    }
   ],
   "source": [
    "print(f\"Accuracy of gridsearch SVM: {model_5_gscv.score(X_test, y_test)}\")"
   ]
  },
  {
   "cell_type": "markdown",
   "id": "02c972f8",
   "metadata": {},
   "source": [
    "### d. Evaluation\n",
    "1. (2 points) Calculate F1 Score, Precision, Recall, Accuracy (All on the test set X_test, y_test) .\n",
    "\n",
    "- Employ the `classification_report()` function from sklearn.metrics to report the precision recall, f1 score and accuracy for each class for the first **four models (parts c.i – c.iv).**"
   ]
  },
  {
   "cell_type": "code",
   "execution_count": 144,
   "id": "8abd484c",
   "metadata": {},
   "outputs": [
    {
     "name": "stdout",
     "output_type": "stream",
     "text": [
      "The classification report for Logistic Regression is:\n",
      "               precision    recall  f1-score   support\n",
      "\n",
      "           0       0.84      0.96      0.89      1608\n",
      "           1       0.59      0.22      0.32       392\n",
      "\n",
      "    accuracy                           0.82      2000\n",
      "   macro avg       0.71      0.59      0.61      2000\n",
      "weighted avg       0.79      0.82      0.78      2000\n",
      "\n",
      "The classification report for SVM is:\n",
      "               precision    recall  f1-score   support\n",
      "\n",
      "           0       0.84      0.99      0.91      1608\n",
      "           1       0.85      0.24      0.37       392\n",
      "\n",
      "    accuracy                           0.84      2000\n",
      "   macro avg       0.84      0.61      0.64      2000\n",
      "weighted avg       0.84      0.84      0.80      2000\n",
      "\n",
      "The classification report for Logistic Regression with smote is:\n",
      "               precision    recall  f1-score   support\n",
      "\n",
      "           0       0.91      0.73      0.81      1608\n",
      "           1       0.39      0.70      0.50       392\n",
      "\n",
      "    accuracy                           0.73      2000\n",
      "   macro avg       0.65      0.72      0.65      2000\n",
      "weighted avg       0.81      0.72      0.75      2000\n",
      "\n",
      "The classification report for SVM with smote is:\n",
      "               precision    recall  f1-score   support\n",
      "\n",
      "           0       0.92      0.79      0.85      1608\n",
      "           1       0.45      0.70      0.55       392\n",
      "\n",
      "    accuracy                           0.78      2000\n",
      "   macro avg       0.68      0.75      0.70      2000\n",
      "weighted avg       0.83      0.78      0.79      2000\n",
      "\n"
     ]
    }
   ],
   "source": [
    "print(f\"The classification report for Logistic Regression is:\\n {classification_report(y_test, y_pred_lr)}\")\n",
    "print(f\"The classification report for SVM is:\\n {classification_report(y_test, y_pred_svm)}\")\n",
    "print(f\"The classification report for Logistic Regression with smote is:\\n {classification_report(y_test, y_pred_smote_lr)}\")\n",
    "print(f\"The classification report for SVM with smote is:\\n {classification_report(y_test, y_pred_smote_svm)}\")"
   ]
  },
  {
   "cell_type": "markdown",
   "id": "42a2aad9",
   "metadata": {},
   "source": [
    "2. Visualize a confusion matrix for the first four models \n",
    "\n",
    "- Employ the `confusion_matrix()` function from sklearn.metrics to report the confusion matrix results.\n",
    "- Report the False Negative and False Positive values for model_1_lr."
   ]
  },
  {
   "cell_type": "code",
   "execution_count": 146,
   "id": "02bf9706",
   "metadata": {},
   "outputs": [
    {
     "name": "stdout",
     "output_type": "stream",
     "text": [
      "The confusion matrix for Logistic Regression is:\n",
      " [[1549   59]\n",
      " [ 306   86]]\n",
      "The confusion matrix for SVM is:\n",
      " [[1591   17]\n",
      " [ 299   93]]\n",
      "The confusion matrix for Logistic Regression with smote is:\n",
      " [[1176  432]\n",
      " [ 118  274]]\n",
      "The confusion matrix for SVM with smote is:\n",
      " [[1275  333]\n",
      " [ 116  276]]\n",
      "The false positive and false negative values for model_1_lr are 59, 306 respectively.\n"
     ]
    }
   ],
   "source": [
    "confusion_matrix_lr = confusion_matrix(y_test, y_pred_lr)\n",
    "\n",
    "print(f\"The confusion matrix for Logistic Regression is:\\n {confusion_matrix_lr}\")\n",
    "print(f\"The confusion matrix for SVM is:\\n {confusion_matrix(y_test, y_pred_svm)}\")\n",
    "print(f\"The confusion matrix for Logistic Regression with smote is:\\n {confusion_matrix(y_test, y_pred_smote_lr)}\")\n",
    "print(f\"The confusion matrix for SVM with smote is:\\n {confusion_matrix(y_test, y_pred_smote_svm)}\")\n",
    "\n",
    "print(f\"The false positive and false negative values for model_1_lr are {confusion_matrix_lr[0][1]}, {confusion_matrix_lr[1][0]} respectively.\")"
   ]
  },
  {
   "cell_type": "markdown",
   "id": "6377f6df",
   "metadata": {},
   "source": [
    "3. Report the best F1 score of the grid search implemented in the fifth model **(part c.v)**. Also report the best parameters from the grid search on the training set. "
   ]
  },
  {
   "cell_type": "code",
   "execution_count": 147,
   "id": "d6308c54",
   "metadata": {},
   "outputs": [
    {
     "name": "stdout",
     "output_type": "stream",
     "text": [
      "The best F1 score of grid search is: 0.8235247836349331\n",
      "The best parameters of grid search are: {'C': 10000, 'gamma': 0.1}\n"
     ]
    }
   ],
   "source": [
    "print(f\"The best F1 score of grid search is: {model_5_gscv.best_score_}\")\n",
    "print(f\"The best parameters of grid search are: {model_5_gscv.best_params_}\")"
   ]
  }
 ],
 "metadata": {
  "kernelspec": {
   "display_name": "Python 3 (ipykernel)",
   "language": "python",
   "name": "python3"
  },
  "language_info": {
   "codemirror_mode": {
    "name": "ipython",
    "version": 3
   },
   "file_extension": ".py",
   "mimetype": "text/x-python",
   "name": "python",
   "nbconvert_exporter": "python",
   "pygments_lexer": "ipython3",
   "version": "3.10.9"
  }
 },
 "nbformat": 4,
 "nbformat_minor": 5
}
