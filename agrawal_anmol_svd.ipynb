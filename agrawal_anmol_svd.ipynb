{
 "cells": [
  {
   "cell_type": "code",
   "execution_count": 25,
   "metadata": {},
   "outputs": [
    {
     "name": "stdout",
     "output_type": "stream",
     "text": [
      "A = [[5.00000001 4.5        0.99999997 1.49999999 0.99999999]\n",
      " [0.99999998 1.00000004 2.5        4.99999999 4.99999997]\n",
      " [4.00000001 4.5        0.99999997 0.99999999 0.99999999]\n",
      " [2.5        1.50000002 4.49999998 1.         0.99999998]\n",
      " [0.99999998 1.00000003 1.         4.         4.99999998]\n",
      " [0.99999999 1.00000002 4.49999999 1.5        2.49999998]]\n",
      "a) U1's estimated rating of the movie Amelie is: 1.4999999898595036\n",
      "b) The strength of concept 1 is: 13.266399703684902\n",
      "c) The average rating of movie Harry Potter across all users is 2.416666650522624\n",
      "d) The movie with the overall highest rating is Casablanca\n"
     ]
    }
   ],
   "source": [
    "import numpy\n",
    "\n",
    "U = numpy.load('U_new.npy')\n",
    "S = numpy.load('S_new.npy')\n",
    "V_transpose = numpy.load('V_transpose_new.npy')\n",
    "\n",
    "A = U.dot(numpy.diag(S).dot(V_transpose))\n",
    "\n",
    "print(\"A = {}\".format(A))\n",
    "\n",
    "print(\"a) U1's estimated rating of the movie Amelie is: {}\".format(A[0][3]))\n",
    "print(\"b) The strength of concept 1 is: {}\".format(S[0]))\n",
    "print(\"c) The average rating of movie Harry Potter across all users is {}\".format(numpy.average(A[:, 2])))\n",
    "# Based on code print(max(numpy.sum(A, axis = 0)))\n",
    "print(\"d) The movie with the overall highest rating is Casablanca\")\n"
   ]
  }
 ],
 "metadata": {
  "kernelspec": {
   "display_name": "Python 3",
   "language": "python",
   "name": "python3"
  },
  "language_info": {
   "codemirror_mode": {
    "name": "ipython",
    "version": 3
   },
   "file_extension": ".py",
   "mimetype": "text/x-python",
   "name": "python",
   "nbconvert_exporter": "python",
   "pygments_lexer": "ipython3",
   "version": "3.11.6"
  }
 },
 "nbformat": 4,
 "nbformat_minor": 2
}
